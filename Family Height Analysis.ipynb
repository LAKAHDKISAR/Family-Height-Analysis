{
 "cells": [
  {
   "cell_type": "markdown",
   "id": "df77e4b4-6e4a-41c4-9592-e010fddc05d9",
   "metadata": {},
   "source": [
    "### About Dataset"
   ]
  },
  {
   "cell_type": "markdown",
   "id": "577ee316-1c41-4201-b9f3-4cca94ff9925",
   "metadata": {},
   "source": [
    "* 1886 observations by Galton on 934 children and their 205 families.\n",
    "\n",
    "* The main goal of this study was to establish a relationship between children and parents' heights. Galton also wanted to find out whether marriage selection indicates a relationship between a husband's and his wife's heights"
   ]
  },
  {
   "cell_type": "markdown",
   "id": "f05007f7-812e-48e8-92a8-8d633dfcd318",
   "metadata": {},
   "source": [
    "Feature Descriptions: \n",
    "* rownames: Index or row identifier for each entry.\n",
    "* family: Family identifier or label.\n",
    "* father: Numeric data representing the height of the father.\n",
    "* mother: Numeric data representing the height of the mother.\n",
    "* midparentHeight: Mid-parent height calculated as  (father + 1.08*mother)/2\n",
    "* children: Number of children in the family.\n",
    "* childNum: Number of the child within the family, listed by height order (boys first, then girls).\n",
    "* gender: Gender of the child (text format).\n",
    "* childHeight: Height of the child.\n",
    "\n",
    "https://www.kaggle.com/datasets/jacopoferretti/parents-heights-vs-children-heights-galton-data"
   ]
  },
  {
   "cell_type": "markdown",
   "id": "8b53574a-2bc8-4c97-8e9b-c109ef3d7391",
   "metadata": {},
   "source": [
    "### Objective"
   ]
  },
  {
   "cell_type": "markdown",
   "id": "75318a57-be97-4ca9-a21c-71728f024063",
   "metadata": {},
   "source": [
    "To analyze height data from families, including parents and children, to understand how parental heights relate to the heights of their offspring"
   ]
  },
  {
   "cell_type": "markdown",
   "id": "45279eff-2d5a-4438-a532-cc7182eb5703",
   "metadata": {},
   "source": [
    "### Snapshot"
   ]
  },
  {
   "cell_type": "markdown",
   "id": "cba58752-f723-427f-baa0-7a97d0fee377",
   "metadata": {},
   "source": [
    "![Snapshot](picII.png)"
   ]
  },
  {
   "cell_type": "markdown",
   "id": "082ab863-8429-414e-ae1d-895e5785648e",
   "metadata": {},
   "source": [
    "### Library"
   ]
  },
  {
   "cell_type": "code",
   "execution_count": 10,
   "id": "c0b7f335-a9a3-41bf-8047-e63713576359",
   "metadata": {},
   "outputs": [],
   "source": [
    "import pandas as pd             \n",
    "import numpy as np             \n",
    "import matplotlib.pyplot as plt \n",
    "%matplotlib inline\n",
    "import seaborn as sns       "
   ]
  },
  {
   "cell_type": "code",
   "execution_count": 11,
   "id": "847f29fe-bd59-4624-bd94-808522b08618",
   "metadata": {},
   "outputs": [],
   "source": [
    "df= pd.read_csv('GaltonFamilies.csv')"
   ]
  },
  {
   "cell_type": "code",
   "execution_count": 12,
   "id": "763d5670-d087-4d43-98b2-923252c6b671",
   "metadata": {},
   "outputs": [
    {
     "name": "stdout",
     "output_type": "stream",
     "text": [
      "<class 'pandas.core.frame.DataFrame'>\n",
      "RangeIndex: 934 entries, 0 to 933\n",
      "Data columns (total 9 columns):\n",
      " #   Column           Non-Null Count  Dtype  \n",
      "---  ------           --------------  -----  \n",
      " 0   rownames         934 non-null    int64  \n",
      " 1   family           934 non-null    object \n",
      " 2   father           934 non-null    float64\n",
      " 3   mother           934 non-null    float64\n",
      " 4   midparentHeight  934 non-null    float64\n",
      " 5   children         934 non-null    int64  \n",
      " 6   childNum         934 non-null    int64  \n",
      " 7   gender           934 non-null    object \n",
      " 8   childHeight      934 non-null    float64\n",
      "dtypes: float64(4), int64(3), object(2)\n",
      "memory usage: 65.8+ KB\n"
     ]
    }
   ],
   "source": [
    "df.info()"
   ]
  },
  {
   "cell_type": "code",
   "execution_count": 13,
   "id": "8f5f414e-9a46-4f43-8788-09cf9997e061",
   "metadata": {},
   "outputs": [
    {
     "data": {
      "text/plain": [
       "(934, 9)"
      ]
     },
     "execution_count": 13,
     "metadata": {},
     "output_type": "execute_result"
    }
   ],
   "source": [
    "df.shape"
   ]
  },
  {
   "cell_type": "code",
   "execution_count": 14,
   "id": "e3887618-c93c-45dc-a1b1-082283a35c55",
   "metadata": {},
   "outputs": [
    {
     "data": {
      "text/html": [
       "<div>\n",
       "<style scoped>\n",
       "    .dataframe tbody tr th:only-of-type {\n",
       "        vertical-align: middle;\n",
       "    }\n",
       "\n",
       "    .dataframe tbody tr th {\n",
       "        vertical-align: top;\n",
       "    }\n",
       "\n",
       "    .dataframe thead th {\n",
       "        text-align: right;\n",
       "    }\n",
       "</style>\n",
       "<table border=\"1\" class=\"dataframe\">\n",
       "  <thead>\n",
       "    <tr style=\"text-align: right;\">\n",
       "      <th></th>\n",
       "      <th>rownames</th>\n",
       "      <th>father</th>\n",
       "      <th>mother</th>\n",
       "      <th>midparentHeight</th>\n",
       "      <th>children</th>\n",
       "      <th>childNum</th>\n",
       "      <th>childHeight</th>\n",
       "    </tr>\n",
       "  </thead>\n",
       "  <tbody>\n",
       "    <tr>\n",
       "      <th>count</th>\n",
       "      <td>934.000000</td>\n",
       "      <td>934.000000</td>\n",
       "      <td>934.000000</td>\n",
       "      <td>934.000000</td>\n",
       "      <td>934.000000</td>\n",
       "      <td>934.000000</td>\n",
       "      <td>934.000000</td>\n",
       "    </tr>\n",
       "    <tr>\n",
       "      <th>mean</th>\n",
       "      <td>467.500000</td>\n",
       "      <td>69.197109</td>\n",
       "      <td>64.089293</td>\n",
       "      <td>69.206773</td>\n",
       "      <td>6.171306</td>\n",
       "      <td>3.585653</td>\n",
       "      <td>66.745931</td>\n",
       "    </tr>\n",
       "    <tr>\n",
       "      <th>std</th>\n",
       "      <td>269.766875</td>\n",
       "      <td>2.476479</td>\n",
       "      <td>2.290886</td>\n",
       "      <td>1.802370</td>\n",
       "      <td>2.729025</td>\n",
       "      <td>2.361410</td>\n",
       "      <td>3.579251</td>\n",
       "    </tr>\n",
       "    <tr>\n",
       "      <th>min</th>\n",
       "      <td>1.000000</td>\n",
       "      <td>62.000000</td>\n",
       "      <td>58.000000</td>\n",
       "      <td>64.400000</td>\n",
       "      <td>1.000000</td>\n",
       "      <td>1.000000</td>\n",
       "      <td>56.000000</td>\n",
       "    </tr>\n",
       "    <tr>\n",
       "      <th>25%</th>\n",
       "      <td>234.250000</td>\n",
       "      <td>68.000000</td>\n",
       "      <td>63.000000</td>\n",
       "      <td>68.140000</td>\n",
       "      <td>4.000000</td>\n",
       "      <td>2.000000</td>\n",
       "      <td>64.000000</td>\n",
       "    </tr>\n",
       "    <tr>\n",
       "      <th>50%</th>\n",
       "      <td>467.500000</td>\n",
       "      <td>69.000000</td>\n",
       "      <td>64.000000</td>\n",
       "      <td>69.248000</td>\n",
       "      <td>6.000000</td>\n",
       "      <td>3.000000</td>\n",
       "      <td>66.500000</td>\n",
       "    </tr>\n",
       "    <tr>\n",
       "      <th>75%</th>\n",
       "      <td>700.750000</td>\n",
       "      <td>71.000000</td>\n",
       "      <td>65.875000</td>\n",
       "      <td>70.140000</td>\n",
       "      <td>8.000000</td>\n",
       "      <td>5.000000</td>\n",
       "      <td>69.700000</td>\n",
       "    </tr>\n",
       "    <tr>\n",
       "      <th>max</th>\n",
       "      <td>934.000000</td>\n",
       "      <td>78.500000</td>\n",
       "      <td>70.500000</td>\n",
       "      <td>75.430000</td>\n",
       "      <td>15.000000</td>\n",
       "      <td>15.000000</td>\n",
       "      <td>79.000000</td>\n",
       "    </tr>\n",
       "  </tbody>\n",
       "</table>\n",
       "</div>"
      ],
      "text/plain": [
       "         rownames      father      mother  midparentHeight    children  \\\n",
       "count  934.000000  934.000000  934.000000       934.000000  934.000000   \n",
       "mean   467.500000   69.197109   64.089293        69.206773    6.171306   \n",
       "std    269.766875    2.476479    2.290886         1.802370    2.729025   \n",
       "min      1.000000   62.000000   58.000000        64.400000    1.000000   \n",
       "25%    234.250000   68.000000   63.000000        68.140000    4.000000   \n",
       "50%    467.500000   69.000000   64.000000        69.248000    6.000000   \n",
       "75%    700.750000   71.000000   65.875000        70.140000    8.000000   \n",
       "max    934.000000   78.500000   70.500000        75.430000   15.000000   \n",
       "\n",
       "         childNum  childHeight  \n",
       "count  934.000000   934.000000  \n",
       "mean     3.585653    66.745931  \n",
       "std      2.361410     3.579251  \n",
       "min      1.000000    56.000000  \n",
       "25%      2.000000    64.000000  \n",
       "50%      3.000000    66.500000  \n",
       "75%      5.000000    69.700000  \n",
       "max     15.000000    79.000000  "
      ]
     },
     "execution_count": 14,
     "metadata": {},
     "output_type": "execute_result"
    }
   ],
   "source": [
    "df.describe()"
   ]
  },
  {
   "cell_type": "code",
   "execution_count": 15,
   "id": "ee756e84-e719-4776-b72b-a8575a01b64d",
   "metadata": {},
   "outputs": [
    {
     "data": {
      "text/plain": [
       "Index(['rownames', 'family', 'father', 'mother', 'midparentHeight', 'children',\n",
       "       'childNum', 'gender', 'childHeight'],\n",
       "      dtype='object')"
      ]
     },
     "execution_count": 15,
     "metadata": {},
     "output_type": "execute_result"
    }
   ],
   "source": [
    "df.columns "
   ]
  },
  {
   "cell_type": "code",
   "execution_count": 16,
   "id": "df9ae8a3-87e8-427f-87ee-1d2a81e4a941",
   "metadata": {},
   "outputs": [
    {
     "name": "stdout",
     "output_type": "stream",
     "text": [
      "rownames           0\n",
      "family             0\n",
      "father             0\n",
      "mother             0\n",
      "midparentHeight    0\n",
      "children           0\n",
      "childNum           0\n",
      "gender             0\n",
      "childHeight        0\n",
      "dtype: int64\n"
     ]
    }
   ],
   "source": [
    "print(df.isnull().sum())"
   ]
  },
  {
   "cell_type": "markdown",
   "id": "bf4eae86-1b48-49ce-83e3-2f4026614f45",
   "metadata": {},
   "source": [
    "## EDA CYCLE"
   ]
  },
  {
   "cell_type": "code",
   "execution_count": 18,
   "id": "f9a10700-4e96-4a6a-9009-b0f63e9ec670",
   "metadata": {},
   "outputs": [
    {
     "ename": "NameError",
     "evalue": "name 'gender_counts' is not defined",
     "output_type": "error",
     "traceback": [
      "\u001b[0;31m---------------------------------------------------------------------------\u001b[0m",
      "\u001b[0;31mNameError\u001b[0m                                 Traceback (most recent call last)",
      "Cell \u001b[0;32mIn[18], line 5\u001b[0m\n\u001b[1;32m      3\u001b[0m \u001b[38;5;66;03m# Plotting the pie chart\u001b[39;00m\n\u001b[1;32m      4\u001b[0m plt\u001b[38;5;241m.\u001b[39mfigure(figsize\u001b[38;5;241m=\u001b[39m(\u001b[38;5;241m4\u001b[39m, \u001b[38;5;241m4\u001b[39m))\n\u001b[0;32m----> 5\u001b[0m plt\u001b[38;5;241m.\u001b[39mpie(gender_c, labels\u001b[38;5;241m=\u001b[39mgender_counts\u001b[38;5;241m.\u001b[39mindex, autopct\u001b[38;5;241m=\u001b[39m\u001b[38;5;124m'\u001b[39m\u001b[38;5;132;01m%1.1f\u001b[39;00m\u001b[38;5;132;01m%%\u001b[39;00m\u001b[38;5;124m'\u001b[39m, startangle\u001b[38;5;241m=\u001b[39m\u001b[38;5;241m140\u001b[39m)\n\u001b[1;32m      6\u001b[0m plt\u001b[38;5;241m.\u001b[39mtitle(\u001b[38;5;124m'\u001b[39m\u001b[38;5;124mDistribution of Gender\u001b[39m\u001b[38;5;124m'\u001b[39m)\n\u001b[1;32m      7\u001b[0m plt\u001b[38;5;241m.\u001b[39mshow()\n",
      "\u001b[0;31mNameError\u001b[0m: name 'gender_counts' is not defined"
     ]
    },
    {
     "data": {
      "text/plain": [
       "<Figure size 400x400 with 0 Axes>"
      ]
     },
     "metadata": {},
     "output_type": "display_data"
    }
   ],
   "source": [
    "gender_c = df['gender'].value_counts()\n",
    "\n",
    "# Plotting the pie chart\n",
    "plt.figure(figsize=(4, 4))\n",
    "plt.pie(gender_c, labels=gender_counts.index, autopct='%1.1f%%', startangle=140)\n",
    "plt.title('Distribution of Gender')\n",
    "plt.show()"
   ]
  },
  {
   "cell_type": "markdown",
   "id": "88c147ee-ee8d-4479-be78-9945ff84bbb4",
   "metadata": {},
   "source": [
    "### Interpretation\n"
   ]
  },
  {
   "cell_type": "markdown",
   "id": "5cb2ccb7-afb7-4a4c-94bb-89e63a148ef9",
   "metadata": {},
   "source": [
    "From the above pie chart we can visualize the distribution of genders in dataset with males constitute 51.5% while females make up 48.5%, indicating a slight majority of males."
   ]
  },
  {
   "cell_type": "code",
   "execution_count": null,
   "id": "cd0eb785-abdc-437a-ad8c-64593e804d7e",
   "metadata": {},
   "outputs": [],
   "source": [
    "sns.histplot(df['childHeight'], bins = 12, color = 'lightgreen', kde = True, edgecolor = 'green')\n",
    "\n",
    "# Add labels\n",
    "plt.title('Child Height')\n",
    "plt.xlabel('Childheight')\n",
    "plt.ylabel('Frequency')\n",
    "\n",
    "# Show the plot\n",
    "plt.show()"
   ]
  },
  {
   "cell_type": "markdown",
   "id": "ddeb55e1-347f-4422-aaab-a06ff8a7825a",
   "metadata": {},
   "source": [
    "### Interpretation"
   ]
  },
  {
   "cell_type": "markdown",
   "id": "40ed0716-d860-46df-81b3-108af376a784",
   "metadata": {},
   "source": [
    "* The above histogram is slightly right skewed.\n",
    "* Highest occurance of child height is around 65."
   ]
  },
  {
   "cell_type": "code",
   "execution_count": null,
   "id": "b173061d-57fd-409b-8622-afd8b8fecb98",
   "metadata": {},
   "outputs": [],
   "source": [
    "# Checking the data type as scatterplot excepts either integer and float\n",
    "print(df['midparentHeight'].dtype)\n",
    "print(df['childHeight'].dtype)\n"
   ]
  },
  {
   "cell_type": "code",
   "execution_count": null,
   "id": "7b939309-55c9-49bf-8c28-dac69f8a06fe",
   "metadata": {},
   "outputs": [],
   "source": [
    "sns.scatterplot(x=df['midparentHeight'], y=df['childHeight'])  \n",
    "plt.title('Scatterplot of Mid Parent Height and Child Height')    \n",
    "plt.xlabel('Mid Parent Height')                                \n",
    "plt.ylabel('Child Height')                          \n",
    "plt.show()"
   ]
  },
  {
   "cell_type": "code",
   "execution_count": null,
   "id": "ae88ff2f-f1c6-4cfd-8d28-8422e97956ec",
   "metadata": {},
   "outputs": [],
   "source": [
    "sns.scatterplot(x=df['midparentHeight'], y=df['childHeight'], hue=df['gender'])  \n",
    "plt.title('Scatterplot of Mid Parent Height and Child Height (With Gender)')    \n",
    "plt.xlabel('Mid Parent Height')                                \n",
    "plt.ylabel('Child Height')                          \n",
    "plt.show()"
   ]
  },
  {
   "cell_type": "markdown",
   "id": "e566045e-1f77-4820-b47c-86a2c6ab0f67",
   "metadata": {},
   "source": [
    "### Interpretation"
   ]
  },
  {
   "cell_type": "markdown",
   "id": "74537e79-3bb0-4687-9e7a-4051c0f75af9",
   "metadata": {},
   "source": [
    "The Scatterplot shows a noticeable positive correlation between parent height and child height. As parent height increases, there tends to be an increase in child height."
   ]
  },
  {
   "cell_type": "code",
   "execution_count": null,
   "id": "7ea4045e-7db3-4a19-a421-7b7447051e90",
   "metadata": {},
   "outputs": [],
   "source": [
    "plt.figure(figsize=(10,7))  # Adjust the figure width\n",
    "sns.boxplot(x=df['gender'], y=df['childHeight'])\n",
    "\n",
    "plt.xlabel ('Gender')\n",
    "plt.ylabel('Child Height')\n",
    "plt.title('Height by Gender')\n",
    "plt.show()"
   ]
  },
  {
   "cell_type": "code",
   "execution_count": null,
   "id": "1218d4d5-91a5-4689-9147-98fe3c8ea76d",
   "metadata": {},
   "outputs": [],
   "source": [
    "plt.figure(figsize=(10, 6))\n",
    "sns.barplot(data=df, x='gender', y='childHeight')\n",
    "plt.title('Bar Plot of Average Child Height by Gender')\n",
    "plt.xlabel('Gender')\n",
    "plt.ylabel('Average Child Height')\n",
    "plt.show()"
   ]
  },
  {
   "cell_type": "markdown",
   "id": "733ba117-d6db-4372-aeab-2152c151c7b5",
   "metadata": {},
   "source": [
    "### Interpretation"
   ]
  },
  {
   "cell_type": "markdown",
   "id": "316d8cff-f155-4bf6-8aa5-ee60919d0602",
   "metadata": {},
   "source": [
    "* Across the scatter plot, box plot, and bar graph above, a trend is observed where male children tend to show slightly higher average heights.\n",
    "* This data suggests that the average height for males at that time was around 69 inches, whereas for females it was around 64 inches."
   ]
  },
  {
   "cell_type": "code",
   "execution_count": null,
   "id": "beb5e698-1310-4067-8912-d8804f0f38fa",
   "metadata": {},
   "outputs": [],
   "source": [
    "corr_matrix = df.corr()\n",
    "sns.heatmap(corr_matrix, annot=True, cmap='coolwarm', linewidths=0.5)\n",
    "plt.title('Correlation Matrix Heat Map')\n",
    "plt.show()"
   ]
  },
  {
   "cell_type": "markdown",
   "id": "4be5ae62-70fe-4365-b18f-c55d8e7d2a3d",
   "metadata": {},
   "source": [
    "### Interpretation"
   ]
  },
  {
   "cell_type": "markdown",
   "id": "b7ecf3af-2abf-4021-b61e-400c3be28209",
   "metadata": {},
   "source": [
    "* The heatmap demonstrates a clear trend where taller parents generally correspond to taller children. This relationship holds consistently across various demographic groups and genders, underscoring its robust nature.\n",
    "\n",
    "* The correlation coefficient of 0.32 between midparent height and child height indicates a moderate positive relationship. This suggests that as midparent height increases, there is a tendency for child height to also increase, albeit moderately. This finding implies that taller parents tend to have taller children, highlighting the influence of parental height on offspring stature. While this correlation underscores a significant trend, it's important to consider that other factors, such as genetic variations and environmental influences, also contribute to the variability in child height."
   ]
  },
  {
   "cell_type": "markdown",
   "id": "30ace563-e6e2-4d38-9b07-11975207ff27",
   "metadata": {},
   "source": [
    "## Conclusion"
   ]
  },
  {
   "cell_type": "markdown",
   "id": "8049e41e-5701-4fa8-8455-f971d573d883",
   "metadata": {},
   "source": [
    "From this analysis of Galton's dataset:\n",
    "\n",
    "* We can observe a moderate positive correlation (correlation coefficient of 0.32) between midparent height and child height, indicating that taller midparent heights tend to correlate with taller child heights.\n",
    "* This relationship is consistent across different genders, with both male and female children showing similar trends in height correlation with parental height.\n",
    "* Visualizations such as scatter plots and heatmaps confirm that taller parents generally have taller children, providing robust evidence of this trend.\n",
    "* Galton's dataset underscores the significance of parental genetics in determining offspring height, a finding that has enduring implications in genetics and family health studies.\n",
    "* Further exploration into factors beyond genetics, such as environmental influences and nutrition, could provide deeper insights into variations in child height."
   ]
  },
  {
   "cell_type": "code",
   "execution_count": null,
   "id": "f6921243-106d-474f-9a26-e89364591b9f",
   "metadata": {},
   "outputs": [],
   "source": []
  }
 ],
 "metadata": {
  "kernelspec": {
   "display_name": "Python 3 (ipykernel)",
   "language": "python",
   "name": "python3"
  },
  "language_info": {
   "codemirror_mode": {
    "name": "ipython",
    "version": 3
   },
   "file_extension": ".py",
   "mimetype": "text/x-python",
   "name": "python",
   "nbconvert_exporter": "python",
   "pygments_lexer": "ipython3",
   "version": "3.11.6"
  }
 },
 "nbformat": 4,
 "nbformat_minor": 5
}
